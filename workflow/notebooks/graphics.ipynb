{
 "cells": [
  {
   "cell_type": "markdown",
   "id": "3c38cfb6",
   "metadata": {},
   "source": [
    "### PREPARATION"
   ]
  },
  {
   "cell_type": "code",
   "execution_count": 2,
   "id": "770acfa3",
   "metadata": {},
   "outputs": [],
   "source": [
    "import yaml\n",
    "import pypsa\n",
    "import warnings\n",
    "import matplotlib.pyplot as plt\n",
    "import geopandas as gpd\n",
    "import numpy as np\n",
    "import pandas as pd\n",
    "from pathlib import Path\n",
    "import seaborn as sns\n",
    "from datetime import datetime\n",
    "from cartopy import crs as ccrs\n",
    "from pypsa.plot import add_legend_circles, add_legend_lines, add_legend_patches\n",
    "import os\n",
    "import xarray as xr\n",
    "import cartopy\n",
    "import sys"
   ]
  },
  {
   "cell_type": "code",
   "execution_count": null,
   "id": "7da76caf",
   "metadata": {},
   "outputs": [
    {
     "name": "stderr",
     "output_type": "stream",
     "text": [
      "INFO:pypsa.io:Imported network elec_s_24_ec_lcopt_Co2L0.15-3h_3h_2050_0.094_NZ_199.8export.nc has buses, carriers, generators, global_constraints, lines, links, loads, storage_units, stores\n",
      "INFO:pypsa.io:Imported network elec_s_24_ec_lcopt_Co2L0.15_3H_2050_0.094_NZ_199.8export.nc has buses, carriers, generators, global_constraints, lines, links, loads, storage_units, stores\n"
     ]
    }
   ],
   "source": [
    "uhs = pypsa.Network(\"results/UHS/postnetworks/elec_s_24_ec_lcopt_Co2L0.15-3h_3h_2050_0.094_NZ_199.8export.nc\")\n",
    "woUHS = pypsa.Network(\"results/woUHS/postnetworks/elec_s_24_ec_lcopt_Co2L0.15_3H_2050_0.094_NZ_199.8export.nc\")\n",
    "regions_onshore = gpd.read_file(\"resources/shapes/country_shapes.geojson\")"
   ]
  },
  {
   "cell_type": "code",
   "execution_count": null,
   "id": "65d531f3",
   "metadata": {},
   "outputs": [],
   "source": [
    "# uhs1 = pypsa.Network(\"results/UHS1/postnetworks/elec_s_1_ec_lcopt_Co2L0.15-3h_3h_2050_0.094_NZ_199.8export.nc\")\n",
    "# woUHS1 = pypsa.Network(\"results/woUHS1/postnetworks/elec_s_1_ec_lcopt_Co2L0.15_3H_2050_0.094_NZ_199.8export.nc\")\n",
    "# uhs10 = pypsa.Network(\"results/UHS10/postnetworks/elec_s_10_ec_lcopt_Co2L0.15-3h_3h_2050_0.094_NZ_199.8export.nc\")\n",
    "# woUHS10 = pypsa.Network(\"results/woUHS10/postnetworks/elec_s_10_ec_lcopt_Co2L0.15_3H_2050_0.094_NZ_199.8export.nc\")\n",
    "# uhs100 = pypsa.Network(\"results/UHS100/postnetworks/elec_s_100_ec_lcopt_Co2L0.15-3h_3h_2050_0.094_NZ_199.8export.nc\")\n",
    "# woUHS100 = pypsa.Network(\"results/woUHS100/postnetworks/elec_s_100_ec_lcopt_Co2L0.15_3H_2050_0.094_NZ_199.8export.nc\")\n",
    "# uhswotm = pypsa.Network(\"results/UHSwotm/postnetworks/elec_s_24_ec_lcopt_Co2L0.15-3h_3h_2050_0.094_NZ_199.8export.nc\")\n",
    "# woUHSwotm = pypsa.Network(\"results/woUHSwotm/postnetworks/elec_s_24_ec_lcopt_Co2L0.15_3H_2050_0.094_NZ_199.8export.nc\")"
   ]
  },
  {
   "cell_type": "markdown",
   "id": "ff904e55",
   "metadata": {},
   "source": [
    "#### Show initial energy system design"
   ]
  },
  {
   "cell_type": "code",
   "execution_count": null,
   "id": "0ac14fef",
   "metadata": {},
   "outputs": [],
   "source": [
    "# Plot energy system on map right now, another two subplots with energy carriers in a pie chart and storages in a pie chart"
   ]
  },
  {
   "cell_type": "markdown",
   "id": "8153d413",
   "metadata": {},
   "source": [
    "#### Compare energy system with uhs and without"
   ]
  },
  {
   "cell_type": "code",
   "execution_count": null,
   "id": "e69b0673",
   "metadata": {},
   "outputs": [],
   "source": [
    "# Plot energy system uhs and woUHS 2050 on a map next to each other"
   ]
  },
  {
   "cell_type": "code",
   "execution_count": null,
   "id": "e4edc1fe",
   "metadata": {},
   "outputs": [],
   "source": [
    "# Plot bar charts of capacity extension of energy carriers, storages and use of hydrogen for uhs and woUHS 2050 next to each other"
   ]
  },
  {
   "cell_type": "code",
   "execution_count": null,
   "id": "d60af580",
   "metadata": {},
   "outputs": [],
   "source": [
    "# Plot energy balance of uhs and woUHS 2050 next to each other"
   ]
  },
  {
   "cell_type": "code",
   "execution_count": null,
   "id": "cd3cc379",
   "metadata": {},
   "outputs": [],
   "source": [
    "# Plot heating and transport supply distribution 2050 of uhs and woUHS next to each other"
   ]
  },
  {
   "cell_type": "markdown",
   "id": "6f67c346",
   "metadata": {},
   "source": [
    "#### Hydrogen prices"
   ]
  },
  {
   "cell_type": "code",
   "execution_count": null,
   "id": "b5a1c6d1",
   "metadata": {},
   "outputs": [],
   "source": [
    "# plot LCOH, Hydrogen CAPEX & OPEX, hydrogen supply and revenue for uhs and woUHS2050 next to each other"
   ]
  },
  {
   "cell_type": "code",
   "execution_count": null,
   "id": "6eadfc34",
   "metadata": {},
   "outputs": [],
   "source": [
    "# plot Hydroegn Market value, hydrogen costs, hydrogen exports (prices + quantity + revenue), hydrogen capacity for uhs and woUHS 2050 next to each other"
   ]
  },
  {
   "cell_type": "code",
   "execution_count": null,
   "id": "cf515d07",
   "metadata": {},
   "outputs": [],
   "source": [
    "# Show how hydrogen underground storage can both stabilize fluctuating hydrogen supply and better handle fluctuating demand (possibly with a graph showing supply/demand coverage with fluctuating supply and demand with/without hydrogen storage)"
   ]
  },
  {
   "cell_type": "code",
   "execution_count": null,
   "id": "d4820570",
   "metadata": {},
   "outputs": [],
   "source": [
    "# Show how storage can have a price-stabilizing effect on both sides (exporting/importing countries)"
   ]
  },
  {
   "cell_type": "code",
   "execution_count": null,
   "id": "6d04f744",
   "metadata": {},
   "outputs": [],
   "source": [
    "# identify the LCOH of the deposits and investigating which ones have been selected"
   ]
  },
  {
   "cell_type": "markdown",
   "id": "1e6b5fba",
   "metadata": {},
   "source": [
    "#### Show PV and Wind Potential"
   ]
  },
  {
   "cell_type": "code",
   "execution_count": null,
   "id": "f0e6e22d",
   "metadata": {},
   "outputs": [],
   "source": [
    "# Plot maps of PV and Wind Potential"
   ]
  },
  {
   "cell_type": "markdown",
   "id": "a69bd468",
   "metadata": {},
   "source": [
    "#### Sensitivity Analysis"
   ]
  },
  {
   "cell_type": "code",
   "execution_count": null,
   "id": "7f46fc2d",
   "metadata": {},
   "outputs": [],
   "source": [
    "# Compare the use of underground hydrogen storage for UHS and woUHS 2050 with various spatial scenarios (1-10-24-100 nodes)"
   ]
  },
  {
   "cell_type": "code",
   "execution_count": null,
   "id": "d495c942",
   "metadata": {},
   "outputs": [],
   "source": [
    "# compare price stabilizing effect results with and without temporal matching activated"
   ]
  }
 ],
 "metadata": {
  "kernelspec": {
   "display_name": "pypsa-earth",
   "language": "python",
   "name": "python3"
  },
  "language_info": {
   "codemirror_mode": {
    "name": "ipython",
    "version": 3
   },
   "file_extension": ".py",
   "mimetype": "text/x-python",
   "name": "python",
   "nbconvert_exporter": "python",
   "pygments_lexer": "ipython3",
   "version": "3.11.13"
  }
 },
 "nbformat": 4,
 "nbformat_minor": 5
}
